{
  "cells": [
    {
      "cell_type": "code",
      "execution_count": 25,
      "id": "5166a5a5",
      "metadata": {
        "id": "5166a5a5"
      },
      "outputs": [],
      "source": [
        "import matplotlib.pyplot as plt\n",
        "import pandas as pd\n",
        "import numpy as np\n",
        "from skimage.io import imread\n",
        "from skimage.transform import resize\n",
        "import os\n",
        "import imageio as io\n",
        "import cv2\n",
        "from sklearn.metrics import plot_confusion_matrix\n",
        "import seaborn as sns\n",
        "from skimage import data\n",
        "from skimage.color import rgb2gray"
      ]
    },
    {
      "cell_type": "code",
      "source": [
        "from google.colab import drive\n",
        "drive.mount('/content/drive')"
      ],
      "metadata": {
        "id": "zpRZbg8qLZDb",
        "outputId": "35990f3c-1678-4822-bf47-b8c145c44592",
        "colab": {
          "base_uri": "https://localhost:8080/"
        }
      },
      "id": "zpRZbg8qLZDb",
      "execution_count": 2,
      "outputs": [
        {
          "output_type": "stream",
          "name": "stdout",
          "text": [
            "Mounted at /content/drive\n"
          ]
        }
      ]
    },
    {
      "cell_type": "code",
      "execution_count": 26,
      "id": "bdaa8b18",
      "metadata": {
        "id": "bdaa8b18"
      },
      "outputs": [],
      "source": [
        "datadir = '/content/drive/MyDrive/ColabNotebooks/flowers'\n",
        "categories = ['rrose','rtulip', 'rsunflower']"
      ]
    },
    {
      "cell_type": "code",
      "execution_count": 58,
      "id": "c42c85b7",
      "metadata": {
        "id": "c42c85b7"
      },
      "outputs": [],
      "source": [
        "label = []\n",
        "images = []\n",
        "flat_data = []\n",
        "dim = 100\n",
        "\n",
        "def create_training_data():\n",
        "    for category in categories:\n",
        "        class_num = categories.index(category)\n",
        "        path = os.path.join(datadir,category)\n",
        "        \n",
        "        for img in os.listdir(path):\n",
        "            if img.endswith('.jpg'):\n",
        "                try:\n",
        "                    img_array = io.imread(os.path.join(path,img))\n",
        "                    img_resized = resize(img_array,(dim, dim))\n",
        "                    cv2.waitKey(0)\n",
        "                    img_resized = np.array(img_resized, dtype=np.uint8)\n",
        "                    gray_image = cv2.cvtColor(img_resized, cv2.COLOR_RGB2GRAY)\n",
        "                    img_resized.mean();\n",
        "                    flat_data.append(gray_image)\n",
        "                    label.append(class_num)\n",
        "                except (IOError, SyntaxError) as e:\n",
        "                    print('Bad file:', img)\n",
        "\n",
        "create_training_data()\n",
        "flat_data = np.array(flat_data)\n",
        "label = np.array(label)"
      ]
    },
    {
      "cell_type": "code",
      "execution_count": 59,
      "id": "c81d483c",
      "metadata": {
        "scrolled": true,
        "id": "c81d483c"
      },
      "outputs": [],
      "source": [
        "# flat_data = pd.DataFrame(flat_data)\n",
        "x, y, z = flat_data.shape\n",
        "flat_data = flat_data.reshape((x, y*z))"
      ]
    },
    {
      "cell_type": "code",
      "execution_count": 60,
      "id": "eba285b7",
      "metadata": {
        "id": "eba285b7",
        "colab": {
          "base_uri": "https://localhost:8080/",
          "height": 419
        },
        "outputId": "3154f3d4-3770-4b7f-f82f-2c54ab7296a5"
      },
      "outputs": [
        {
          "output_type": "execute_result",
          "data": {
            "text/plain": [
              "     0\n",
              "0    0\n",
              "1    0\n",
              "2    0\n",
              "3    0\n",
              "4    0\n",
              "..  ..\n",
              "295  2\n",
              "296  2\n",
              "297  2\n",
              "298  2\n",
              "299  2\n",
              "\n",
              "[300 rows x 1 columns]"
            ],
            "text/html": [
              "\n",
              "  <div id=\"df-f23e76de-b6ef-4d37-9267-e552e14fa1b6\">\n",
              "    <div class=\"colab-df-container\">\n",
              "      <div>\n",
              "<style scoped>\n",
              "    .dataframe tbody tr th:only-of-type {\n",
              "        vertical-align: middle;\n",
              "    }\n",
              "\n",
              "    .dataframe tbody tr th {\n",
              "        vertical-align: top;\n",
              "    }\n",
              "\n",
              "    .dataframe thead th {\n",
              "        text-align: right;\n",
              "    }\n",
              "</style>\n",
              "<table border=\"1\" class=\"dataframe\">\n",
              "  <thead>\n",
              "    <tr style=\"text-align: right;\">\n",
              "      <th></th>\n",
              "      <th>0</th>\n",
              "    </tr>\n",
              "  </thead>\n",
              "  <tbody>\n",
              "    <tr>\n",
              "      <th>0</th>\n",
              "      <td>0</td>\n",
              "    </tr>\n",
              "    <tr>\n",
              "      <th>1</th>\n",
              "      <td>0</td>\n",
              "    </tr>\n",
              "    <tr>\n",
              "      <th>2</th>\n",
              "      <td>0</td>\n",
              "    </tr>\n",
              "    <tr>\n",
              "      <th>3</th>\n",
              "      <td>0</td>\n",
              "    </tr>\n",
              "    <tr>\n",
              "      <th>4</th>\n",
              "      <td>0</td>\n",
              "    </tr>\n",
              "    <tr>\n",
              "      <th>...</th>\n",
              "      <td>...</td>\n",
              "    </tr>\n",
              "    <tr>\n",
              "      <th>295</th>\n",
              "      <td>2</td>\n",
              "    </tr>\n",
              "    <tr>\n",
              "      <th>296</th>\n",
              "      <td>2</td>\n",
              "    </tr>\n",
              "    <tr>\n",
              "      <th>297</th>\n",
              "      <td>2</td>\n",
              "    </tr>\n",
              "    <tr>\n",
              "      <th>298</th>\n",
              "      <td>2</td>\n",
              "    </tr>\n",
              "    <tr>\n",
              "      <th>299</th>\n",
              "      <td>2</td>\n",
              "    </tr>\n",
              "  </tbody>\n",
              "</table>\n",
              "<p>300 rows × 1 columns</p>\n",
              "</div>\n",
              "      <button class=\"colab-df-convert\" onclick=\"convertToInteractive('df-f23e76de-b6ef-4d37-9267-e552e14fa1b6')\"\n",
              "              title=\"Convert this dataframe to an interactive table.\"\n",
              "              style=\"display:none;\">\n",
              "        \n",
              "  <svg xmlns=\"http://www.w3.org/2000/svg\" height=\"24px\"viewBox=\"0 0 24 24\"\n",
              "       width=\"24px\">\n",
              "    <path d=\"M0 0h24v24H0V0z\" fill=\"none\"/>\n",
              "    <path d=\"M18.56 5.44l.94 2.06.94-2.06 2.06-.94-2.06-.94-.94-2.06-.94 2.06-2.06.94zm-11 1L8.5 8.5l.94-2.06 2.06-.94-2.06-.94L8.5 2.5l-.94 2.06-2.06.94zm10 10l.94 2.06.94-2.06 2.06-.94-2.06-.94-.94-2.06-.94 2.06-2.06.94z\"/><path d=\"M17.41 7.96l-1.37-1.37c-.4-.4-.92-.59-1.43-.59-.52 0-1.04.2-1.43.59L10.3 9.45l-7.72 7.72c-.78.78-.78 2.05 0 2.83L4 21.41c.39.39.9.59 1.41.59.51 0 1.02-.2 1.41-.59l7.78-7.78 2.81-2.81c.8-.78.8-2.07 0-2.86zM5.41 20L4 18.59l7.72-7.72 1.47 1.35L5.41 20z\"/>\n",
              "  </svg>\n",
              "      </button>\n",
              "      \n",
              "  <style>\n",
              "    .colab-df-container {\n",
              "      display:flex;\n",
              "      flex-wrap:wrap;\n",
              "      gap: 12px;\n",
              "    }\n",
              "\n",
              "    .colab-df-convert {\n",
              "      background-color: #E8F0FE;\n",
              "      border: none;\n",
              "      border-radius: 50%;\n",
              "      cursor: pointer;\n",
              "      display: none;\n",
              "      fill: #1967D2;\n",
              "      height: 32px;\n",
              "      padding: 0 0 0 0;\n",
              "      width: 32px;\n",
              "    }\n",
              "\n",
              "    .colab-df-convert:hover {\n",
              "      background-color: #E2EBFA;\n",
              "      box-shadow: 0px 1px 2px rgba(60, 64, 67, 0.3), 0px 1px 3px 1px rgba(60, 64, 67, 0.15);\n",
              "      fill: #174EA6;\n",
              "    }\n",
              "\n",
              "    [theme=dark] .colab-df-convert {\n",
              "      background-color: #3B4455;\n",
              "      fill: #D2E3FC;\n",
              "    }\n",
              "\n",
              "    [theme=dark] .colab-df-convert:hover {\n",
              "      background-color: #434B5C;\n",
              "      box-shadow: 0px 1px 3px 1px rgba(0, 0, 0, 0.15);\n",
              "      filter: drop-shadow(0px 1px 2px rgba(0, 0, 0, 0.3));\n",
              "      fill: #FFFFFF;\n",
              "    }\n",
              "  </style>\n",
              "\n",
              "      <script>\n",
              "        const buttonEl =\n",
              "          document.querySelector('#df-f23e76de-b6ef-4d37-9267-e552e14fa1b6 button.colab-df-convert');\n",
              "        buttonEl.style.display =\n",
              "          google.colab.kernel.accessAllowed ? 'block' : 'none';\n",
              "\n",
              "        async function convertToInteractive(key) {\n",
              "          const element = document.querySelector('#df-f23e76de-b6ef-4d37-9267-e552e14fa1b6');\n",
              "          const dataTable =\n",
              "            await google.colab.kernel.invokeFunction('convertToInteractive',\n",
              "                                                     [key], {});\n",
              "          if (!dataTable) return;\n",
              "\n",
              "          const docLinkHtml = 'Like what you see? Visit the ' +\n",
              "            '<a target=\"_blank\" href=https://colab.research.google.com/notebooks/data_table.ipynb>data table notebook</a>'\n",
              "            + ' to learn more about interactive tables.';\n",
              "          element.innerHTML = '';\n",
              "          dataTable['output_type'] = 'display_data';\n",
              "          await google.colab.output.renderOutput(dataTable, element);\n",
              "          const docLink = document.createElement('div');\n",
              "          docLink.innerHTML = docLinkHtml;\n",
              "          element.appendChild(docLink);\n",
              "        }\n",
              "      </script>\n",
              "    </div>\n",
              "  </div>\n",
              "  "
            ]
          },
          "metadata": {},
          "execution_count": 60
        }
      ],
      "source": [
        "label = pd.DataFrame(label)\n",
        "label"
      ]
    },
    {
      "cell_type": "code",
      "execution_count": 61,
      "id": "e6525d97",
      "metadata": {
        "id": "e6525d97",
        "colab": {
          "base_uri": "https://localhost:8080/"
        },
        "outputId": "a5a165a9-9aab-48f5-dcd4-a870e1973bf3"
      },
      "outputs": [
        {
          "output_type": "execute_result",
          "data": {
            "text/plain": [
              "(300, 300)"
            ]
          },
          "metadata": {},
          "execution_count": 61
        }
      ],
      "source": [
        "from sklearn.decomposition import PCA\n",
        "\n",
        "pca = PCA()\n",
        "flat_data = pca.fit_transform(flat_data)\n",
        "\n",
        "flat_data.shape"
      ]
    },
    {
      "cell_type": "code",
      "execution_count": 62,
      "id": "88e12b07",
      "metadata": {
        "id": "88e12b07"
      },
      "outputs": [],
      "source": [
        "from sklearn.model_selection import train_test_split\n",
        "x_train, x_test, y_train, y_test = train_test_split(flat_data, label, test_size=0.10, random_state=40)"
      ]
    },
    {
      "cell_type": "markdown",
      "id": "32dd73c5",
      "metadata": {
        "id": "32dd73c5"
      },
      "source": [
        "# Linear regression "
      ]
    },
    {
      "cell_type": "code",
      "execution_count": 63,
      "id": "d47ce701",
      "metadata": {
        "id": "d47ce701",
        "colab": {
          "base_uri": "https://localhost:8080/"
        },
        "outputId": "a4ace50a-1ce5-4de5-cd71-0424787ac5bc"
      },
      "outputs": [
        {
          "output_type": "execute_result",
          "data": {
            "text/plain": [
              "0.1891781040223235"
            ]
          },
          "metadata": {},
          "execution_count": 63
        }
      ],
      "source": [
        "from sklearn.linear_model import LinearRegression\n",
        "from sklearn.metrics import mean_squared_error, r2_score\n",
        "\n",
        "linear = LinearRegression()\n",
        "linear = linear.fit(x_train, y_train)\n",
        "\n",
        "y_pred_linear = linear.predict(x_test)\n",
        "\n",
        "linear_model = linear.score(x_test, y_test)\n",
        "linear.score(x_test, y_test)"
      ]
    },
    {
      "cell_type": "code",
      "execution_count": 64,
      "id": "0d17ff49",
      "metadata": {
        "id": "0d17ff49",
        "colab": {
          "base_uri": "https://localhost:8080/"
        },
        "outputId": "c62f55dd-5964-4dc1-ad53-4208b58725ef"
      },
      "outputs": [
        {
          "output_type": "stream",
          "name": "stdout",
          "text": [
            "[[ 4  4  0]\n",
            " [ 0 11  0]\n",
            " [ 0 11  0]]\n",
            "              precision    recall  f1-score   support\n",
            "\n",
            "           0      1.000     0.500     0.667         8\n",
            "           1      0.423     1.000     0.595        11\n",
            "           2      0.000     0.000     0.000        11\n",
            "\n",
            "    accuracy                          0.500        30\n",
            "   macro avg      0.474     0.500     0.420        30\n",
            "weighted avg      0.422     0.500     0.396        30\n",
            "\n",
            "r2_score =  0.19786096256684516\n",
            "accuracy =  0.5\n"
          ]
        }
      ],
      "source": [
        "from sklearn import metrics\n",
        "\n",
        "print(metrics.confusion_matrix(y_test,np.asarray(y_pred_linear,dtype=\"int\")))\n",
        "print(metrics.classification_report(y_test,np.asarray(y_pred_linear,dtype=\"int\"),digits=3,zero_division=0))\n",
        "print(\"r2_score = \",metrics.r2_score(y_test,np.asarray(y_pred_linear,dtype=\"int\")))\n",
        "print(\"accuracy = \",metrics.accuracy_score(y_test, np.asarray(y_pred_linear,dtype=\"int\")))"
      ]
    },
    {
      "cell_type": "markdown",
      "id": "d105115b",
      "metadata": {
        "id": "d105115b"
      },
      "source": [
        "# Logistic Regression"
      ]
    },
    {
      "cell_type": "code",
      "execution_count": 65,
      "id": "370fc765",
      "metadata": {
        "id": "370fc765",
        "colab": {
          "base_uri": "https://localhost:8080/"
        },
        "outputId": "51e380eb-0bd5-403b-f858-661fb96b1722"
      },
      "outputs": [
        {
          "output_type": "stream",
          "name": "stderr",
          "text": [
            "/usr/local/lib/python3.8/dist-packages/sklearn/utils/validation.py:993: DataConversionWarning: A column-vector y was passed when a 1d array was expected. Please change the shape of y to (n_samples, ), for example using ravel().\n",
            "  y = column_or_1d(y, warn=True)\n"
          ]
        },
        {
          "output_type": "execute_result",
          "data": {
            "text/plain": [
              "0.26666666666666666"
            ]
          },
          "metadata": {},
          "execution_count": 65
        }
      ],
      "source": [
        "from sklearn.linear_model import LogisticRegression  \n",
        "\n",
        "lor = LogisticRegression()  \n",
        "lor.fit(x_train, y_train)  \n",
        "\n",
        "y_pred_lor = lor.predict(x_test)  \n",
        "lor_model = lor.score(x_test, y_test)\n",
        "\n",
        "lor.score(x_test, y_test)"
      ]
    },
    {
      "cell_type": "code",
      "execution_count": 66,
      "id": "8f23bbe1",
      "metadata": {
        "id": "8f23bbe1",
        "colab": {
          "base_uri": "https://localhost:8080/"
        },
        "outputId": "227282c5-afec-4064-ef13-0944be071d5d"
      },
      "outputs": [
        {
          "output_type": "stream",
          "name": "stdout",
          "text": [
            "[[ 8  0  0]\n",
            " [11  0  0]\n",
            " [11  0  0]]\n",
            "              precision    recall  f1-score   support\n",
            "\n",
            "           0      0.267     1.000     0.421         8\n",
            "           1      0.000     0.000     0.000        11\n",
            "           2      0.000     0.000     0.000        11\n",
            "\n",
            "    accuracy                          0.267        30\n",
            "   macro avg      0.089     0.333     0.140        30\n",
            "weighted avg      0.071     0.267     0.112        30\n",
            "\n",
            "r2_score =  -1.9411764705882342\n",
            "accuracy =  0.26666666666666666\n"
          ]
        }
      ],
      "source": [
        "from sklearn import metrics\n",
        "\n",
        "print(metrics.confusion_matrix(y_test,np.asarray(y_pred_lor,dtype=\"int\")))\n",
        "print(metrics.classification_report(y_test,np.asarray(y_pred_lor,dtype=\"int\"),digits=3,zero_division=0))\n",
        "print(\"r2_score = \",metrics.r2_score(y_test,np.asarray(y_pred_lor,dtype=\"int\")))\n",
        "print(\"accuracy = \",metrics.accuracy_score(y_test, np.asarray(y_pred_lor,dtype=\"int\")))"
      ]
    },
    {
      "cell_type": "markdown",
      "id": "c9130dca",
      "metadata": {
        "id": "c9130dca"
      },
      "source": [
        "# SVM"
      ]
    },
    {
      "cell_type": "code",
      "execution_count": 67,
      "id": "9f888ea6",
      "metadata": {
        "id": "9f888ea6",
        "colab": {
          "base_uri": "https://localhost:8080/"
        },
        "outputId": "293dd1ed-e2f7-4d95-cd78-704b76773b98"
      },
      "outputs": [
        {
          "output_type": "stream",
          "name": "stderr",
          "text": [
            "/usr/local/lib/python3.8/dist-packages/sklearn/utils/validation.py:993: DataConversionWarning: A column-vector y was passed when a 1d array was expected. Please change the shape of y to (n_samples, ), for example using ravel().\n",
            "  y = column_or_1d(y, warn=True)\n"
          ]
        },
        {
          "output_type": "execute_result",
          "data": {
            "text/plain": [
              "0.26666666666666666"
            ]
          },
          "metadata": {},
          "execution_count": 67
        }
      ],
      "source": [
        "from sklearn.svm import SVC\n",
        "\n",
        "svc = SVC()\n",
        "svc.fit(x_train, y_train)\n",
        "\n",
        "y_pred_svc = svc.predict(x_test)  \n",
        "\n",
        "svc_model = svc.score(x_test, y_test)\n",
        "\n",
        "svc.score(x_test, y_test)"
      ]
    },
    {
      "cell_type": "code",
      "execution_count": 68,
      "id": "3df8ae87",
      "metadata": {
        "id": "3df8ae87",
        "colab": {
          "base_uri": "https://localhost:8080/",
          "height": 333
        },
        "outputId": "dc7ac543-0e22-4963-b651-10f0fcc7ba1d"
      },
      "outputs": [
        {
          "output_type": "stream",
          "name": "stderr",
          "text": [
            "/usr/local/lib/python3.8/dist-packages/sklearn/utils/deprecation.py:87: FutureWarning: Function plot_confusion_matrix is deprecated; Function `plot_confusion_matrix` is deprecated in 1.0 and will be removed in 1.2. Use one of the class methods: ConfusionMatrixDisplay.from_predictions or ConfusionMatrixDisplay.from_estimator.\n",
            "  warnings.warn(msg, category=FutureWarning)\n"
          ]
        },
        {
          "output_type": "display_data",
          "data": {
            "text/plain": [
              "<Figure size 432x288 with 2 Axes>"
            ],
            "image/png": "[encoded data removed]"
          },
          "metadata": {
            "needs_background": "light"
          }
        }
      ],
      "source": [
        "plot_confusion_matrix(svc, x_test, y_test)  \n",
        "plt.show()"
      ]
    },
    {
      "cell_type": "code",
      "execution_count": 69,
      "id": "1f88ff4c",
      "metadata": {
        "id": "1f88ff4c",
        "colab": {
          "base_uri": "https://localhost:8080/"
        },
        "outputId": "f433e6b4-d14a-4b5f-9378-d54a1d5b69da"
      },
      "outputs": [
        {
          "output_type": "stream",
          "name": "stdout",
          "text": [
            "[[ 8  0  0]\n",
            " [11  0  0]\n",
            " [11  0  0]]\n",
            "              precision    recall  f1-score   support\n",
            "\n",
            "           0      0.267     1.000     0.421         8\n",
            "           1      0.000     0.000     0.000        11\n",
            "           2      0.000     0.000     0.000        11\n",
            "\n",
            "    accuracy                          0.267        30\n",
            "   macro avg      0.089     0.333     0.140        30\n",
            "weighted avg      0.071     0.267     0.112        30\n",
            "\n",
            "r2_score =  -1.9411764705882342\n",
            "accuracy =  0.26666666666666666\n"
          ]
        }
      ],
      "source": [
        "from sklearn import metrics\n",
        "\n",
        "\n",
        "print(metrics.confusion_matrix(y_test,np.asarray(y_pred_svc,dtype=\"int\")))\n",
        "print(metrics.classification_report(y_test,np.asarray(y_pred_svc,dtype=\"int\"),digits=3,zero_division=0))\n",
        "print(\"r2_score = \",metrics.r2_score(y_test,np.asarray(y_pred_svc,dtype=\"int\")))\n",
        "print(\"accuracy = \",metrics.accuracy_score(y_test, np.asarray(y_pred_svc,dtype=\"int\")))"
      ]
    },
    {
      "cell_type": "markdown",
      "id": "839fc076",
      "metadata": {
        "id": "839fc076"
      },
      "source": [
        "# Decision Tree classifier"
      ]
    },
    {
      "cell_type": "code",
      "execution_count": 70,
      "id": "e68617cf",
      "metadata": {
        "id": "e68617cf",
        "colab": {
          "base_uri": "https://localhost:8080/"
        },
        "outputId": "58d7eda1-3c04-4f11-cf44-5b4fecc9e499"
      },
      "outputs": [
        {
          "output_type": "execute_result",
          "data": {
            "text/plain": [
              "0.26666666666666666"
            ]
          },
          "metadata": {},
          "execution_count": 70
        }
      ],
      "source": [
        "from sklearn.tree import DecisionTreeClassifier  \n",
        "\n",
        "dtc = DecisionTreeClassifier(criterion = 'entropy')  \n",
        "dtc.fit(x_train, y_train)\n",
        "\n",
        "y_pred_dtc = dtc.predict(x_test)\n",
        "\n",
        "dtc_model = dtc.score(x_test, y_test)\n",
        "\n",
        "dtc.score(x_test, y_test)"
      ]
    },
    {
      "cell_type": "code",
      "execution_count": 71,
      "id": "d44a6e95",
      "metadata": {
        "id": "d44a6e95",
        "colab": {
          "base_uri": "https://localhost:8080/",
          "height": 333
        },
        "outputId": "6e9d971f-aa72-4f85-ba55-10752fb22cf4"
      },
      "outputs": [
        {
          "output_type": "stream",
          "name": "stderr",
          "text": [
            "/usr/local/lib/python3.8/dist-packages/sklearn/utils/deprecation.py:87: FutureWarning: Function plot_confusion_matrix is deprecated; Function `plot_confusion_matrix` is deprecated in 1.0 and will be removed in 1.2. Use one of the class methods: ConfusionMatrixDisplay.from_predictions or ConfusionMatrixDisplay.from_estimator.\n",
            "  warnings.warn(msg, category=FutureWarning)\n"
          ]
        },
        {
          "output_type": "display_data",
          "data": {
            "text/plain": [
              "<Figure size 432x288 with 2 Axes>"
            ],
            "image/png": "[encoded data removed]"
          },
          "metadata": {
            "needs_background": "light"
          }
        }
      ],
      "source": [
        "plot_confusion_matrix(dtc, x_test, y_test)  \n",
        "plt.show()"
      ]
    },
    {
      "cell_type": "code",
      "execution_count": 72,
      "id": "62bff2fa",
      "metadata": {
        "id": "62bff2fa",
        "colab": {
          "base_uri": "https://localhost:8080/"
        },
        "outputId": "0fbef81f-4299-4154-dca1-af318d099edd"
      },
      "outputs": [
        {
          "output_type": "stream",
          "name": "stdout",
          "text": [
            "[[ 8  0  0]\n",
            " [11  0  0]\n",
            " [11  0  0]]\n",
            "              precision    recall  f1-score   support\n",
            "\n",
            "           0      0.267     1.000     0.421         8\n",
            "           1      0.000     0.000     0.000        11\n",
            "           2      0.000     0.000     0.000        11\n",
            "\n",
            "    accuracy                          0.267        30\n",
            "   macro avg      0.089     0.333     0.140        30\n",
            "weighted avg      0.071     0.267     0.112        30\n",
            "\n",
            "r2_score =  -1.9411764705882342\n",
            "accuracy =  0.26666666666666666\n"
          ]
        }
      ],
      "source": [
        "from sklearn import metrics\n",
        "\n",
        "print(metrics.confusion_matrix(y_test,np.asarray(y_pred_dtc,dtype=\"int\")))\n",
        "print(metrics.classification_report(y_test,np.asarray(y_pred_dtc,dtype=\"int\"),digits=3,zero_division=0))\n",
        "print(\"r2_score = \",metrics.r2_score(y_test,np.asarray(y_pred_dtc,dtype=\"int\")))\n",
        "print(\"accuracy = \",metrics.accuracy_score(y_test, np.asarray(y_pred_dtc,dtype=\"int\")))"
      ]
    },
    {
      "cell_type": "markdown",
      "id": "a7d1b5aa",
      "metadata": {
        "id": "a7d1b5aa"
      },
      "source": [
        "# Random forest classifier"
      ]
    },
    {
      "cell_type": "code",
      "execution_count": 73,
      "id": "8179583e",
      "metadata": {
        "id": "8179583e",
        "colab": {
          "base_uri": "https://localhost:8080/"
        },
        "outputId": "6af7515b-0f1c-4048-ddd2-40010552f4f0"
      },
      "outputs": [
        {
          "output_type": "stream",
          "name": "stderr",
          "text": [
            "<ipython-input-73-833b0b222e4c>:4: DataConversionWarning: A column-vector y was passed when a 1d array was expected. Please change the shape of y to (n_samples,), for example using ravel().\n",
            "  rfc.fit(x_train, y_train)\n"
          ]
        },
        {
          "output_type": "execute_result",
          "data": {
            "text/plain": [
              "0.26666666666666666"
            ]
          },
          "metadata": {},
          "execution_count": 73
        }
      ],
      "source": [
        "from sklearn.ensemble import RandomForestClassifier  \n",
        "\n",
        "rfc = RandomForestClassifier(n_estimators= 1000, criterion=\"entropy\")  \n",
        "rfc.fit(x_train, y_train)\n",
        "\n",
        "y_pred_rfc = rfc.predict(x_test) \n",
        "rfc_model = rfc.score(x_test, y_test)\n",
        "\n",
        "rfc.score(x_test, y_test)"
      ]
    },
    {
      "cell_type": "code",
      "execution_count": 74,
      "id": "b6285e0e",
      "metadata": {
        "id": "b6285e0e",
        "colab": {
          "base_uri": "https://localhost:8080/",
          "height": 333
        },
        "outputId": "2849ae22-2e42-496a-f71c-60fc62e42494"
      },
      "outputs": [
        {
          "output_type": "stream",
          "name": "stderr",
          "text": [
            "/usr/local/lib/python3.8/dist-packages/sklearn/utils/deprecation.py:87: FutureWarning: Function plot_confusion_matrix is deprecated; Function `plot_confusion_matrix` is deprecated in 1.0 and will be removed in 1.2. Use one of the class methods: ConfusionMatrixDisplay.from_predictions or ConfusionMatrixDisplay.from_estimator.\n",
            "  warnings.warn(msg, category=FutureWarning)\n"
          ]
        },
        {
          "output_type": "display_data",
          "data": {
            "text/plain": [
              "<Figure size 432x288 with 2 Axes>"
            ],
            "image/png": "[encoded data removed]"
          },
          "metadata": {
            "needs_background": "light"
          }
        }
      ],
      "source": [
        "plot_confusion_matrix(rfc, x_test, y_test)  \n",
        "plt.show()"
      ]
    },
    {
      "cell_type": "code",
      "execution_count": 75,
      "id": "200a4b38",
      "metadata": {
        "id": "200a4b38",
        "colab": {
          "base_uri": "https://localhost:8080/"
        },
        "outputId": "5b32f0e7-7d2a-48a8-e475-374dff73b2cf"
      },
      "outputs": [
        {
          "output_type": "stream",
          "name": "stdout",
          "text": [
            "[[ 8  0  0]\n",
            " [11  0  0]\n",
            " [11  0  0]]\n",
            "              precision    recall  f1-score   support\n",
            "\n",
            "           0      0.267     1.000     0.421         8\n",
            "           1      0.000     0.000     0.000        11\n",
            "           2      0.000     0.000     0.000        11\n",
            "\n",
            "    accuracy                          0.267        30\n",
            "   macro avg      0.089     0.333     0.140        30\n",
            "weighted avg      0.071     0.267     0.112        30\n",
            "\n",
            "r2_score =  -1.9411764705882342\n",
            "accuracy =  0.26666666666666666\n"
          ]
        }
      ],
      "source": [
        "from sklearn import metrics\n",
        "\n",
        "print(metrics.confusion_matrix(y_test,np.asarray(y_pred_rfc,dtype=\"int\")))\n",
        "print(metrics.classification_report(y_test,np.asarray(y_pred_rfc,dtype=\"int\"),digits=3,zero_division=0))\n",
        "print(\"r2_score = \",metrics.r2_score(y_test,np.asarray(y_pred_rfc,dtype=\"int\")))\n",
        "print(\"accuracy = \",metrics.accuracy_score(y_test, np.asarray(y_pred_rfc,dtype=\"int\")))"
      ]
    },
    {
      "cell_type": "markdown",
      "id": "0cd42941",
      "metadata": {
        "id": "0cd42941"
      },
      "source": [
        "# Lasso "
      ]
    },
    {
      "cell_type": "code",
      "execution_count": 76,
      "id": "48746d05",
      "metadata": {
        "id": "48746d05",
        "colab": {
          "base_uri": "https://localhost:8080/"
        },
        "outputId": "8dc29a4b-7a56-4caf-d537-291b3a1bfcd2"
      },
      "outputs": [
        {
          "output_type": "execute_result",
          "data": {
            "text/plain": [
              "-0.021922043457402562"
            ]
          },
          "metadata": {},
          "execution_count": 76
        }
      ],
      "source": [
        "from sklearn.linear_model import Lasso\n",
        "\n",
        "lasso = Lasso(alpha = 0.01)\n",
        "lasso.fit(x_train, y_train)\n",
        "\n",
        "y_pred_lasso = lasso.predict(x_test)\n",
        "\n",
        "# np.sqrt(mean_squared_error(y_pred_lasso, y_test))\n",
        "\n",
        "lasso_model = lasso.score(x_test, y_test)\n",
        "\n",
        "lasso.score(x_test, y_test)"
      ]
    },
    {
      "cell_type": "code",
      "execution_count": 77,
      "id": "0b328040",
      "metadata": {
        "id": "0b328040",
        "colab": {
          "base_uri": "https://localhost:8080/"
        },
        "outputId": "ecc51f18-088d-44d3-b7cf-1f196b23f0c0"
      },
      "outputs": [
        {
          "output_type": "stream",
          "name": "stdout",
          "text": [
            "[[ 8  0  0]\n",
            " [11  0  0]\n",
            " [11  0  0]]\n",
            "              precision    recall  f1-score   support\n",
            "\n",
            "           0      0.267     1.000     0.421         8\n",
            "           1      0.000     0.000     0.000        11\n",
            "           2      0.000     0.000     0.000        11\n",
            "\n",
            "    accuracy                          0.267        30\n",
            "   macro avg      0.089     0.333     0.140        30\n",
            "weighted avg      0.071     0.267     0.112        30\n",
            "\n",
            "r2_score =  -1.9411764705882342\n",
            "accuracy =  0.26666666666666666\n"
          ]
        }
      ],
      "source": [
        "from sklearn import metrics\n",
        "\n",
        "print(metrics.confusion_matrix(y_test,np.asarray(y_pred_lasso,dtype=\"int\")))\n",
        "print(metrics.classification_report(y_test,np.asarray(y_pred_lasso,dtype=\"int\"),digits=3,zero_division=0))\n",
        "print(\"r2_score = \",metrics.r2_score(y_test,np.asarray(y_pred_lasso,dtype=\"int\")))\n",
        "print(\"accuracy = \",metrics.accuracy_score(y_test, np.asarray(y_pred_lasso,dtype=\"int\")))"
      ]
    },
    {
      "cell_type": "markdown",
      "id": "ed4e7379",
      "metadata": {
        "id": "ed4e7379"
      },
      "source": [
        "# Ridge "
      ]
    },
    {
      "cell_type": "code",
      "execution_count": 78,
      "id": "8d46348d",
      "metadata": {
        "id": "8d46348d",
        "colab": {
          "base_uri": "https://localhost:8080/"
        },
        "outputId": "64b2217b-d139-4977-c8a1-71327bb64cab"
      },
      "outputs": [
        {
          "output_type": "stream",
          "name": "stderr",
          "text": [
            "/usr/local/lib/python3.8/dist-packages/sklearn/linear_model/_base.py:148: FutureWarning: 'normalize' was deprecated in version 1.0 and will be removed in 1.2. Please leave the normalize parameter to its default value to silence this warning. The default behavior of this estimator is to not do any normalization. If normalization is needed please use sklearn.preprocessing.StandardScaler instead.\n",
            "  warnings.warn(\n"
          ]
        },
        {
          "output_type": "execute_result",
          "data": {
            "text/plain": [
              "-0.025761893931045776"
            ]
          },
          "metadata": {},
          "execution_count": 78
        }
      ],
      "source": [
        "from sklearn.linear_model import Ridge\n",
        "\n",
        "ridge = Ridge(alpha = 0.5, normalize = False, tol = 0.01, solver ='auto')\n",
        "ridge.fit(x_train, y_train)\n",
        "  \n",
        "y_pred_ridge = ridge.predict(x_test)\n",
        "\n",
        "ridge_model = ridge.score(x_test, y_test)\n",
        "\n",
        "ridge.score(x_test, y_test)"
      ]
    },
    {
      "cell_type": "code",
      "execution_count": 79,
      "id": "a97367b0",
      "metadata": {
        "id": "a97367b0",
        "colab": {
          "base_uri": "https://localhost:8080/"
        },
        "outputId": "4b4a30a5-4291-462b-94c7-48f1a06e6e9f"
      },
      "outputs": [
        {
          "output_type": "stream",
          "name": "stdout",
          "text": [
            "[[ 8  0  0]\n",
            " [11  0  0]\n",
            " [11  0  0]]\n",
            "              precision    recall  f1-score   support\n",
            "\n",
            "           0      0.267     1.000     0.421         8\n",
            "           1      0.000     0.000     0.000        11\n",
            "           2      0.000     0.000     0.000        11\n",
            "\n",
            "    accuracy                          0.267        30\n",
            "   macro avg      0.089     0.333     0.140        30\n",
            "weighted avg      0.071     0.267     0.112        30\n",
            "\n",
            "r2_score =  -1.9411764705882342\n",
            "accuracy =  0.26666666666666666\n"
          ]
        }
      ],
      "source": [
        "from sklearn import metrics\n",
        "\n",
        "print(metrics.confusion_matrix(y_test,np.asarray(y_pred_ridge,dtype=\"int\")))\n",
        "print(metrics.classification_report(y_test,np.asarray(y_pred_ridge,dtype=\"int\"),digits=3,zero_division=0))\n",
        "print(\"r2_score = \",metrics.r2_score(y_test,np.asarray(y_pred_ridge,dtype=\"int\")))\n",
        "print(\"accuracy = \",metrics.accuracy_score(y_test, np.asarray(y_pred_ridge,dtype=\"int\")))"
      ]
    },
    {
      "cell_type": "code",
      "execution_count": 80,
      "id": "fb794a10",
      "metadata": {
        "id": "fb794a10",
        "colab": {
          "base_uri": "https://localhost:8080/",
          "height": 295
        },
        "outputId": "72aa74df-c228-4094-a8c9-2c172d18bcf5"
      },
      "outputs": [
        {
          "output_type": "display_data",
          "data": {
            "text/plain": [
              "<Figure size 432x288 with 1 Axes>"
            ],
            "image/png": "[encoded data removed]"
          },
          "metadata": {
            "needs_background": "light"
          }
        }
      ],
      "source": [
        "x = ['Linear Regression','Logistic Regression','SVM','Random Forest','Decision Tree',\n",
        "     'Lasso Regression','Ridge Regression']\n",
        "y = [linear_model,lor_model, svc_model, rfc_model, dtc_model,lasso_model, ridge_model]\n",
        "plt.barh(x,y,color=['c','y'])\n",
        "plt.xlabel('Accuracy')\n",
        "plt.ylabel('Regression and classification')\n",
        "plt.title('Accuracy Bar Graph')\n",
        "\n",
        "plt.show()"
      ]
    }
  ],
  "metadata": {
    "kernelspec": {
      "display_name": "Python 3 (ipykernel)",
      "language": "python",
      "name": "python3"
    },
    "language_info": {
      "codemirror_mode": {
        "name": "ipython",
        "version": 3
      },
      "file_extension": ".py",
      "mimetype": "text/x-python",
      "name": "python",
      "nbconvert_exporter": "python",
      "pygments_lexer": "ipython3",
      "version": "3.9.7"
    },
    "colab": {
      "provenance": []
    }
  },
  "nbformat": 4,
  "nbformat_minor": 5
}
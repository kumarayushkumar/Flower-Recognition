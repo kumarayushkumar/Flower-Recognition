{
  "cells": [
    {
      "cell_type": "code",
      "execution_count": 1,
      "id": "5166a5a5",
      "metadata": {
        "id": "5166a5a5"
      },
      "outputs": [],
      "source": [
        "import matplotlib.pyplot as plt\n",
        "import pandas as pd\n",
        "import numpy as np\n",
        "from skimage.io import imread\n",
        "from skimage.transform import resize\n",
        "import os\n",
        "import imageio as io\n",
        "import cv2\n",
        "from sklearn.metrics import plot_confusion_matrix\n",
        "import seaborn as sns\n",
        "from skimage import data\n",
        "from skimage.color import rgb2gray\n",
        "from sklearn import metrics"
      ]
    },
    {
      "cell_type": "code",
      "source": [
        "from google.colab import drive\n",
        "drive.mount('/content/drive')"
      ],
      "metadata": {
        "id": "zpRZbg8qLZDb",
        "colab": {
          "base_uri": "https://localhost:8080/"
        },
        "outputId": "acd5abe9-a98a-4851-973d-76739f4fd5f1"
      },
      "id": "zpRZbg8qLZDb",
      "execution_count": 2,
      "outputs": [
        {
          "output_type": "stream",
          "name": "stdout",
          "text": [
            "Drive already mounted at /content/drive; to attempt to forcibly remount, call drive.mount(\"/content/drive\", force_remount=True).\n"
          ]
        }
      ]
    },
    {
      "cell_type": "code",
      "execution_count": 3,
      "id": "bdaa8b18",
      "metadata": {
        "id": "bdaa8b18"
      },
      "outputs": [],
      "source": [
        "datadir = '/content/drive/MyDrive/ColabNotebooks/flowers'\n",
        "categories = ['rrose','rtulip', 'rsunflower']"
      ]
    },
    {
      "cell_type": "code",
      "execution_count": 4,
      "id": "c42c85b7",
      "metadata": {
        "id": "c42c85b7"
      },
      "outputs": [],
      "source": [
        "label = []\n",
        "images = []\n",
        "flat_data = []\n",
        "dim = 155\n",
        "\n",
        "def create_training_data():\n",
        "    for category in categories:\n",
        "        class_num = categories.index(category)\n",
        "        path = os.path.join(datadir,category)\n",
        "        \n",
        "        for img in os.listdir(path):\n",
        "            if img.endswith('.jpg'):\n",
        "                try:\n",
        "                    image = io.imread(os.path.join(path,img))\n",
        "                    img_resized = resize(image,(dim, dim, 3))\n",
        "                    flat_data.append(img_resized.flatten())\n",
        "                    label.append(class_num)\n",
        "                except (IOError, SyntaxError) as e:\n",
        "                    print('Bad file:', img)\n",
        "\n",
        "create_training_data()\n",
        "\n",
        "flat_data = np.array(flat_data)\n",
        "label = np.array(label)"
      ]
    },
    {
      "cell_type": "code",
      "execution_count": 5,
      "id": "c81d483c",
      "metadata": {
        "scrolled": true,
        "id": "c81d483c",
        "colab": {
          "base_uri": "https://localhost:8080/"
        },
        "outputId": "4401ab5d-a26a-43a1-a710-05f79efc9cce"
      },
      "outputs": [
        {
          "output_type": "execute_result",
          "data": {
            "text/plain": [
              "array([[0.5172094 , 0.51328783, 0.53289568, ..., 0.14509804, 0.2       ,\n",
              "        0.07058824],\n",
              "       [0.26652751, 0.29822774, 0.33333333, ..., 0.28337761, 0.30489564,\n",
              "        0.30934729],\n",
              "       [0.82343494, 0.76510253, 0.25520495, ..., 0.834803  , 0.66043235,\n",
              "        0.01568627],\n",
              "       ...,\n",
              "       [0.37474649, 0.42369142, 0.50786477, ..., 0.13386464, 0.12600763,\n",
              "        0.17768379],\n",
              "       [0.75018261, 0.60012854, 0.43916876, ..., 0.55967334, 0.73509008,\n",
              "        0.48070739],\n",
              "       [0.5797168 , 0.64063986, 0.65691988, ..., 0.26116076, 0.37463019,\n",
              "        0.15369713]])"
            ]
          },
          "metadata": {},
          "execution_count": 5
        }
      ],
      "source": [
        "flat_data"
      ]
    },
    {
      "cell_type": "code",
      "source": [
        "label.shape"
      ],
      "metadata": {
        "colab": {
          "base_uri": "https://localhost:8080/"
        },
        "id": "YlJx3Spi2lNI",
        "outputId": "85643fdb-0ecc-40c2-c4fa-41539b849a7a"
      },
      "id": "YlJx3Spi2lNI",
      "execution_count": 6,
      "outputs": [
        {
          "output_type": "execute_result",
          "data": {
            "text/plain": [
              "(300,)"
            ]
          },
          "metadata": {},
          "execution_count": 6
        }
      ]
    },
    {
      "cell_type": "code",
      "execution_count": 7,
      "id": "e6525d97",
      "metadata": {
        "id": "e6525d97",
        "colab": {
          "base_uri": "https://localhost:8080/"
        },
        "outputId": "9771c9f8-68fd-4fc1-c946-cefc15a37d34"
      },
      "outputs": [
        {
          "output_type": "execute_result",
          "data": {
            "text/plain": [
              "(300, 300)"
            ]
          },
          "metadata": {},
          "execution_count": 7
        }
      ],
      "source": [
        "from sklearn.decomposition import PCA\n",
        "\n",
        "pca = PCA()\n",
        "flat_data = pca.fit_transform(flat_data)\n",
        "\n",
        "flat_data.shape"
      ]
    },
    {
      "cell_type": "code",
      "execution_count": 8,
      "id": "88e12b07",
      "metadata": {
        "id": "88e12b07"
      },
      "outputs": [],
      "source": [
        "from sklearn.model_selection import train_test_split\n",
        "x_train, x_test, y_train, y_test = train_test_split(flat_data, label, test_size=0.20)"
      ]
    },
    {
      "cell_type": "markdown",
      "id": "32dd73c5",
      "metadata": {
        "id": "32dd73c5"
      },
      "source": [
        "# Linear regression "
      ]
    },
    {
      "cell_type": "code",
      "execution_count": 9,
      "id": "d47ce701",
      "metadata": {
        "id": "d47ce701",
        "colab": {
          "base_uri": "https://localhost:8080/"
        },
        "outputId": "83176798-b4f5-4ee4-89e9-40a53bffc0cc"
      },
      "outputs": [
        {
          "output_type": "execute_result",
          "data": {
            "text/plain": [
              "0.44243114116047155"
            ]
          },
          "metadata": {},
          "execution_count": 9
        }
      ],
      "source": [
        "from sklearn.linear_model import LinearRegression\n",
        "from sklearn.metrics import mean_squared_error, r2_score\n",
        "\n",
        "linear = LinearRegression()\n",
        "linear = linear.fit(x_train, y_train)\n",
        "\n",
        "y_pred_linear = linear.predict(x_test)\n",
        "\n",
        "linear_model = linear.score(x_test, y_test)\n",
        "linear.score(x_test, y_test)"
      ]
    },
    {
      "cell_type": "code",
      "execution_count": 10,
      "id": "0d17ff49",
      "metadata": {
        "id": "0d17ff49",
        "colab": {
          "base_uri": "https://localhost:8080/"
        },
        "outputId": "1cff01d4-bb9b-4d00-b619-adf9b8365295"
      },
      "outputs": [
        {
          "output_type": "stream",
          "name": "stdout",
          "text": [
            "[[16  0  0]\n",
            " [13  4  0]\n",
            " [ 1 18  8]]\n",
            "              precision    recall  f1-score   support\n",
            "\n",
            "           0      0.533     1.000     0.696        16\n",
            "           1      0.182     0.235     0.205        17\n",
            "           2      1.000     0.296     0.457        27\n",
            "\n",
            "    accuracy                          0.467        60\n",
            "   macro avg      0.572     0.511     0.453        60\n",
            "weighted avg      0.644     0.467     0.449        60\n",
            "\n",
            "r2_score =  0.14599430662871105\n",
            "accuracy =  0.4666666666666667\n"
          ]
        }
      ],
      "source": [
        "print(metrics.confusion_matrix(y_test,np.asarray(y_pred_linear,dtype=\"int\")))\n",
        "print(metrics.classification_report(y_test,np.asarray(y_pred_linear,dtype=\"int\"),digits=3,zero_division=0))\n",
        "print(\"r2_score = \",metrics.r2_score(y_test,np.asarray(y_pred_linear,dtype=\"int\")))\n",
        "print(\"accuracy = \",metrics.accuracy_score(y_test, np.asarray(y_pred_linear,dtype=\"int\")))"
      ]
    },
    {
      "cell_type": "markdown",
      "id": "d105115b",
      "metadata": {
        "id": "d105115b"
      },
      "source": [
        "# Logistic Regression"
      ]
    },
    {
      "cell_type": "code",
      "execution_count": 11,
      "id": "370fc765",
      "metadata": {
        "id": "370fc765",
        "colab": {
          "base_uri": "https://localhost:8080/"
        },
        "outputId": "b343bd29-c3c4-4fde-b3e5-379edc5d469e"
      },
      "outputs": [
        {
          "output_type": "stream",
          "name": "stderr",
          "text": [
            "/usr/local/lib/python3.8/dist-packages/sklearn/linear_model/_logistic.py:814: ConvergenceWarning: lbfgs failed to converge (status=1):\n",
            "STOP: TOTAL NO. of ITERATIONS REACHED LIMIT.\n",
            "\n",
            "Increase the number of iterations (max_iter) or scale the data as shown in:\n",
            "    https://scikit-learn.org/stable/modules/preprocessing.html\n",
            "Please also refer to the documentation for alternative solver options:\n",
            "    https://scikit-learn.org/stable/modules/linear_model.html#logistic-regression\n",
            "  n_iter_i = _check_optimize_result(\n"
          ]
        },
        {
          "output_type": "execute_result",
          "data": {
            "text/plain": [
              "0.75"
            ]
          },
          "metadata": {},
          "execution_count": 11
        }
      ],
      "source": [
        "from sklearn.linear_model import LogisticRegression  \n",
        "\n",
        "lor = LogisticRegression()  \n",
        "lor.fit(x_train, y_train)  \n",
        "\n",
        "y_pred_lor = lor.predict(x_test)  \n",
        "lor_model = lor.score(x_test, y_test)\n",
        "\n",
        "lor.score(x_test, y_test)"
      ]
    },
    {
      "cell_type": "code",
      "execution_count": 12,
      "id": "8f23bbe1",
      "metadata": {
        "id": "8f23bbe1",
        "colab": {
          "base_uri": "https://localhost:8080/"
        },
        "outputId": "116c67f8-0c6e-4e93-9461-4d2281389c47"
      },
      "outputs": [
        {
          "output_type": "stream",
          "name": "stdout",
          "text": [
            "[[14  2  0]\n",
            " [ 9  5  3]\n",
            " [ 1  0 26]]\n",
            "              precision    recall  f1-score   support\n",
            "\n",
            "           0      0.583     0.875     0.700        16\n",
            "           1      0.714     0.294     0.417        17\n",
            "           2      0.897     0.963     0.929        27\n",
            "\n",
            "    accuracy                          0.750        60\n",
            "   macro avg      0.731     0.711     0.682        60\n",
            "weighted avg      0.761     0.750     0.723        60\n",
            "\n",
            "r2_score =  0.56079707198048\n",
            "accuracy =  0.75\n"
          ]
        }
      ],
      "source": [
        "print(metrics.confusion_matrix(y_test,np.asarray(y_pred_lor,dtype=\"int\")))\n",
        "print(metrics.classification_report(y_test,np.asarray(y_pred_lor,dtype=\"int\"),digits=3,zero_division=0))\n",
        "print(\"r2_score = \",metrics.r2_score(y_test,np.asarray(y_pred_lor,dtype=\"int\")))\n",
        "print(\"accuracy = \",metrics.accuracy_score(y_test, np.asarray(y_pred_lor,dtype=\"int\")))"
      ]
    },
    {
      "cell_type": "markdown",
      "id": "c9130dca",
      "metadata": {
        "id": "c9130dca"
      },
      "source": [
        "# SVM"
      ]
    },
    {
      "cell_type": "code",
      "execution_count": 13,
      "id": "9f888ea6",
      "metadata": {
        "id": "9f888ea6",
        "colab": {
          "base_uri": "https://localhost:8080/"
        },
        "outputId": "6312eb23-d048-462a-8929-49222a2236e2"
      },
      "outputs": [
        {
          "output_type": "execute_result",
          "data": {
            "text/plain": [
              "0.8166666666666667"
            ]
          },
          "metadata": {},
          "execution_count": 13
        }
      ],
      "source": [
        "from sklearn.svm import SVC\n",
        "\n",
        "svc = SVC()\n",
        "svc.fit(x_train, y_train)\n",
        "\n",
        "y_pred_svc = svc.predict(x_test)  \n",
        "\n",
        "svc_model = svc.score(x_test, y_test)\n",
        "\n",
        "svc.score(x_test, y_test)"
      ]
    },
    {
      "cell_type": "code",
      "execution_count": 14,
      "id": "3df8ae87",
      "metadata": {
        "id": "3df8ae87",
        "colab": {
          "base_uri": "https://localhost:8080/",
          "height": 333
        },
        "outputId": "d3499d93-e025-42a3-9da7-8dfda73453ea"
      },
      "outputs": [
        {
          "output_type": "stream",
          "name": "stderr",
          "text": [
            "/usr/local/lib/python3.8/dist-packages/sklearn/utils/deprecation.py:87: FutureWarning: Function plot_confusion_matrix is deprecated; Function `plot_confusion_matrix` is deprecated in 1.0 and will be removed in 1.2. Use one of the class methods: ConfusionMatrixDisplay.from_predictions or ConfusionMatrixDisplay.from_estimator.\n",
            "  warnings.warn(msg, category=FutureWarning)\n"
          ]
        },
        {
          "output_type": "display_data",
          "data": {
            "text/plain": [
              "<Figure size 432x288 with 2 Axes>"
            ],
            "image/png": "[encoded data removed]"
          },
          "metadata": {
            "needs_background": "light"
          }
        }
      ],
      "source": [
        "plot_confusion_matrix(svc, x_test, y_test)  \n",
        "plt.show()"
      ]
    },
    {
      "cell_type": "code",
      "execution_count": 15,
      "id": "1f88ff4c",
      "metadata": {
        "id": "1f88ff4c",
        "colab": {
          "base_uri": "https://localhost:8080/"
        },
        "outputId": "b93e8344-77ad-4f2f-a129-937e6a7c957a"
      },
      "outputs": [
        {
          "output_type": "stream",
          "name": "stdout",
          "text": [
            "[[12  3  1]\n",
            " [ 3 11  3]\n",
            " [ 0  1 26]]\n",
            "              precision    recall  f1-score   support\n",
            "\n",
            "           0      0.800     0.750     0.774        16\n",
            "           1      0.733     0.647     0.688        17\n",
            "           2      0.867     0.963     0.912        27\n",
            "\n",
            "    accuracy                          0.817        60\n",
            "   macro avg      0.800     0.787     0.791        60\n",
            "weighted avg      0.811     0.817     0.812        60\n",
            "\n",
            "r2_score =  0.6583977226514843\n",
            "accuracy =  0.8166666666666667\n"
          ]
        }
      ],
      "source": [
        "print(metrics.confusion_matrix(y_test,np.asarray(y_pred_svc,dtype=\"int\")))\n",
        "print(metrics.classification_report(y_test,np.asarray(y_pred_svc,dtype=\"int\"),digits=3,zero_division=0))\n",
        "print(\"r2_score = \",metrics.r2_score(y_test,np.asarray(y_pred_svc,dtype=\"int\")))\n",
        "print(\"accuracy = \",metrics.accuracy_score(y_test, np.asarray(y_pred_svc,dtype=\"int\")))"
      ]
    },
    {
      "cell_type": "markdown",
      "id": "839fc076",
      "metadata": {
        "id": "839fc076"
      },
      "source": [
        "# Decision Tree classifier"
      ]
    },
    {
      "cell_type": "code",
      "execution_count": 16,
      "id": "e68617cf",
      "metadata": {
        "id": "e68617cf",
        "colab": {
          "base_uri": "https://localhost:8080/"
        },
        "outputId": "41acfd1e-587b-4088-81da-67c88d82efe1"
      },
      "outputs": [
        {
          "output_type": "execute_result",
          "data": {
            "text/plain": [
              "0.6666666666666666"
            ]
          },
          "metadata": {},
          "execution_count": 16
        }
      ],
      "source": [
        "from sklearn.tree import DecisionTreeClassifier  \n",
        "\n",
        "dtc = DecisionTreeClassifier(criterion = 'entropy')  \n",
        "dtc.fit(x_train, y_train)\n",
        "\n",
        "y_pred_dtc = dtc.predict(x_test)\n",
        "\n",
        "dtc_model = dtc.score(x_test, y_test)\n",
        "\n",
        "dtc.score(x_test, y_test)"
      ]
    },
    {
      "cell_type": "code",
      "execution_count": 17,
      "id": "d44a6e95",
      "metadata": {
        "id": "d44a6e95",
        "colab": {
          "base_uri": "https://localhost:8080/",
          "height": 337
        },
        "outputId": "66b48b1b-bd4e-4ce6-df03-849f5fec731c"
      },
      "outputs": [
        {
          "output_type": "stream",
          "name": "stderr",
          "text": [
            "/usr/local/lib/python3.8/dist-packages/sklearn/utils/deprecation.py:87: FutureWarning: Function plot_confusion_matrix is deprecated; Function `plot_confusion_matrix` is deprecated in 1.0 and will be removed in 1.2. Use one of the class methods: ConfusionMatrixDisplay.from_predictions or ConfusionMatrixDisplay.from_estimator.\n",
            "  warnings.warn(msg, category=FutureWarning)\n"
          ]
        },
        {
          "output_type": "display_data",
          "data": {
            "text/plain": [
              "<Figure size 432x288 with 2 Axes>"
            ],
            "image/png": "[encoded data removed]"
          },
          "metadata": {
            "needs_background": "light"
          }
        }
      ],
      "source": [
        "plot_confusion_matrix(dtc, x_test, y_test)  \n",
        "plt.show()"
      ]
    },
    {
      "cell_type": "code",
      "execution_count": 18,
      "id": "62bff2fa",
      "metadata": {
        "id": "62bff2fa",
        "colab": {
          "base_uri": "https://localhost:8080/"
        },
        "outputId": "d9011f8d-0f53-43d4-cbee-d7357be0d29b"
      },
      "outputs": [
        {
          "output_type": "stream",
          "name": "stdout",
          "text": [
            "[[11  2  3]\n",
            " [ 3 11  3]\n",
            " [ 3  6 18]]\n",
            "              precision    recall  f1-score   support\n",
            "\n",
            "           0      0.647     0.688     0.667        16\n",
            "           1      0.579     0.647     0.611        17\n",
            "           2      0.750     0.667     0.706        27\n",
            "\n",
            "    accuracy                          0.667        60\n",
            "   macro avg      0.659     0.667     0.661        60\n",
            "weighted avg      0.674     0.667     0.669        60\n",
            "\n",
            "r2_score =  0.07279381862545764\n",
            "accuracy =  0.6666666666666666\n"
          ]
        }
      ],
      "source": [
        "print(metrics.confusion_matrix(y_test,np.asarray(y_pred_dtc,dtype=\"int\")))\n",
        "print(metrics.classification_report(y_test,np.asarray(y_pred_dtc,dtype=\"int\"),digits=3,zero_division=0))\n",
        "print(\"r2_score = \",metrics.r2_score(y_test,np.asarray(y_pred_dtc,dtype=\"int\")))\n",
        "print(\"accuracy = \",metrics.accuracy_score(y_test, np.asarray(y_pred_dtc,dtype=\"int\")))"
      ]
    },
    {
      "cell_type": "markdown",
      "id": "a7d1b5aa",
      "metadata": {
        "id": "a7d1b5aa"
      },
      "source": [
        "# Random forest classifier"
      ]
    },
    {
      "cell_type": "code",
      "execution_count": 19,
      "id": "8179583e",
      "metadata": {
        "id": "8179583e",
        "colab": {
          "base_uri": "https://localhost:8080/"
        },
        "outputId": "96f32fad-9de2-4153-8d15-e5fbda639ade"
      },
      "outputs": [
        {
          "output_type": "execute_result",
          "data": {
            "text/plain": [
              "0.6833333333333333"
            ]
          },
          "metadata": {},
          "execution_count": 19
        }
      ],
      "source": [
        "from sklearn.ensemble import RandomForestClassifier  \n",
        "\n",
        "rfc = RandomForestClassifier(n_estimators= 1000, criterion=\"entropy\")  \n",
        "rfc.fit(x_train, y_train)\n",
        "\n",
        "y_pred_rfc = rfc.predict(x_test) \n",
        "rfc_model = rfc.score(x_test, y_test)\n",
        "\n",
        "rfc.score(x_test, y_test)"
      ]
    },
    {
      "cell_type": "code",
      "execution_count": 20,
      "id": "b6285e0e",
      "metadata": {
        "id": "b6285e0e",
        "colab": {
          "base_uri": "https://localhost:8080/",
          "height": 337
        },
        "outputId": "3add3887-828e-49b1-b990-0b3260a74730"
      },
      "outputs": [
        {
          "output_type": "stream",
          "name": "stderr",
          "text": [
            "/usr/local/lib/python3.8/dist-packages/sklearn/utils/deprecation.py:87: FutureWarning: Function plot_confusion_matrix is deprecated; Function `plot_confusion_matrix` is deprecated in 1.0 and will be removed in 1.2. Use one of the class methods: ConfusionMatrixDisplay.from_predictions or ConfusionMatrixDisplay.from_estimator.\n",
            "  warnings.warn(msg, category=FutureWarning)\n"
          ]
        },
        {
          "output_type": "display_data",
          "data": {
            "text/plain": [
              "<Figure size 432x288 with 2 Axes>"
            ],
            "image/png": "[encoded data removed]"
          },
          "metadata": {
            "needs_background": "light"
          }
        }
      ],
      "source": [
        "plot_confusion_matrix(rfc, x_test, y_test)  \n",
        "plt.show()"
      ]
    },
    {
      "cell_type": "code",
      "execution_count": 21,
      "id": "200a4b38",
      "metadata": {
        "id": "200a4b38",
        "colab": {
          "base_uri": "https://localhost:8080/"
        },
        "outputId": "bd8730bf-1246-4d5e-a80b-03c8a4b23704"
      },
      "outputs": [
        {
          "output_type": "stream",
          "name": "stdout",
          "text": [
            "[[14  0  2]\n",
            " [ 4 11  2]\n",
            " [ 7  4 16]]\n",
            "              precision    recall  f1-score   support\n",
            "\n",
            "           0      0.560     0.875     0.683        16\n",
            "           1      0.733     0.647     0.688        17\n",
            "           2      0.800     0.593     0.681        27\n",
            "\n",
            "    accuracy                          0.683        60\n",
            "   macro avg      0.698     0.705     0.684        60\n",
            "weighted avg      0.717     0.683     0.683        60\n",
            "\n",
            "r2_score =  -0.12240748271655133\n",
            "accuracy =  0.6833333333333333\n"
          ]
        }
      ],
      "source": [
        "print(metrics.confusion_matrix(y_test,np.asarray(y_pred_rfc,dtype=\"int\")))\n",
        "print(metrics.classification_report(y_test,np.asarray(y_pred_rfc,dtype=\"int\"),digits=3,zero_division=0))\n",
        "print(\"r2_score = \",metrics.r2_score(y_test,np.asarray(y_pred_rfc,dtype=\"int\")))\n",
        "print(\"accuracy = \",metrics.accuracy_score(y_test, np.asarray(y_pred_rfc,dtype=\"int\")))"
      ]
    },
    {
      "cell_type": "markdown",
      "id": "0cd42941",
      "metadata": {
        "id": "0cd42941"
      },
      "source": [
        "# Lasso "
      ]
    },
    {
      "cell_type": "code",
      "execution_count": 22,
      "id": "48746d05",
      "metadata": {
        "id": "48746d05",
        "colab": {
          "base_uri": "https://localhost:8080/"
        },
        "outputId": "27507c90-2d79-4cce-e5fb-2bfe8210aebd"
      },
      "outputs": [
        {
          "output_type": "execute_result",
          "data": {
            "text/plain": [
              "0.37831870723675165"
            ]
          },
          "metadata": {},
          "execution_count": 22
        }
      ],
      "source": [
        "from sklearn.linear_model import Lasso\n",
        "\n",
        "lasso = Lasso(alpha = 0.01)\n",
        "lasso.fit(x_train, y_train)\n",
        "\n",
        "y_pred_lasso = lasso.predict(x_test)\n",
        "\n",
        "# np.sqrt(mean_squared_error(y_pred_lasso, y_test))\n",
        "\n",
        "lasso_model = lasso.score(x_test, y_test)\n",
        "\n",
        "lasso.score(x_test, y_test)"
      ]
    },
    {
      "cell_type": "code",
      "execution_count": 23,
      "id": "0b328040",
      "metadata": {
        "id": "0b328040",
        "colab": {
          "base_uri": "https://localhost:8080/"
        },
        "outputId": "2cb2ec44-d3d0-4d0b-bb29-0d1dc8a28bb9"
      },
      "outputs": [
        {
          "output_type": "stream",
          "name": "stdout",
          "text": [
            "[[ 0  0  0  0]\n",
            " [ 0 14  2  0]\n",
            " [ 1  9  6  1]\n",
            " [ 0  2 16  9]]\n",
            "              precision    recall  f1-score   support\n",
            "\n",
            "          -1      0.000     0.000     0.000         0\n",
            "           0      0.560     0.875     0.683        16\n",
            "           1      0.250     0.353     0.293        17\n",
            "           2      0.900     0.333     0.486        27\n",
            "\n",
            "    accuracy                          0.483        60\n",
            "   macro avg      0.427     0.390     0.366        60\n",
            "weighted avg      0.625     0.483     0.484        60\n",
            "\n",
            "r2_score =  0.02399349328995548\n",
            "accuracy =  0.48333333333333334\n"
          ]
        }
      ],
      "source": [
        "print(metrics.confusion_matrix(y_test,np.asarray(y_pred_lasso,dtype=\"int\")))\n",
        "print(metrics.classification_report(y_test,np.asarray(y_pred_lasso,dtype=\"int\"),digits=3,zero_division=0))\n",
        "print(\"r2_score = \",metrics.r2_score(y_test,np.asarray(y_pred_lasso,dtype=\"int\")))\n",
        "print(\"accuracy = \",metrics.accuracy_score(y_test, np.asarray(y_pred_lasso,dtype=\"int\")))"
      ]
    },
    {
      "cell_type": "markdown",
      "id": "ed4e7379",
      "metadata": {
        "id": "ed4e7379"
      },
      "source": [
        "# Ridge "
      ]
    },
    {
      "cell_type": "code",
      "execution_count": 24,
      "id": "8d46348d",
      "metadata": {
        "id": "8d46348d",
        "colab": {
          "base_uri": "https://localhost:8080/"
        },
        "outputId": "79f8df09-2643-4540-9784-1c21b2b68214"
      },
      "outputs": [
        {
          "output_type": "stream",
          "name": "stderr",
          "text": [
            "/usr/local/lib/python3.8/dist-packages/sklearn/linear_model/_base.py:148: FutureWarning: 'normalize' was deprecated in version 1.0 and will be removed in 1.2. Please leave the normalize parameter to its default value to silence this warning. The default behavior of this estimator is to not do any normalization. If normalization is needed please use sklearn.preprocessing.StandardScaler instead.\n",
            "  warnings.warn(\n"
          ]
        },
        {
          "output_type": "execute_result",
          "data": {
            "text/plain": [
              "0.44265913911624577"
            ]
          },
          "metadata": {},
          "execution_count": 24
        }
      ],
      "source": [
        "from sklearn.linear_model import Ridge\n",
        "\n",
        "ridge = Ridge(alpha = 0.5, normalize = False, tol = 0.01, solver ='auto')\n",
        "ridge.fit(x_train, y_train)\n",
        "  \n",
        "y_pred_ridge = ridge.predict(x_test)\n",
        "\n",
        "ridge_model = ridge.score(x_test, y_test)\n",
        "\n",
        "ridge.score(x_test, y_test)"
      ]
    },
    {
      "cell_type": "code",
      "execution_count": 25,
      "id": "a97367b0",
      "metadata": {
        "id": "a97367b0",
        "colab": {
          "base_uri": "https://localhost:8080/"
        },
        "outputId": "32dc028e-2b78-4b1a-8874-693c50fd3fd3"
      },
      "outputs": [
        {
          "output_type": "stream",
          "name": "stdout",
          "text": [
            "[[16  0  0]\n",
            " [13  4  0]\n",
            " [ 1 18  8]]\n",
            "              precision    recall  f1-score   support\n",
            "\n",
            "           0      0.533     1.000     0.696        16\n",
            "           1      0.182     0.235     0.205        17\n",
            "           2      1.000     0.296     0.457        27\n",
            "\n",
            "    accuracy                          0.467        60\n",
            "   macro avg      0.572     0.511     0.453        60\n",
            "weighted avg      0.644     0.467     0.449        60\n",
            "\n",
            "r2_score =  0.14599430662871105\n",
            "accuracy =  0.4666666666666667\n"
          ]
        }
      ],
      "source": [
        "print(metrics.confusion_matrix(y_test,np.asarray(y_pred_ridge,dtype=\"int\")))\n",
        "print(metrics.classification_report(y_test,np.asarray(y_pred_ridge,dtype=\"int\"),digits=3,zero_division=0))\n",
        "print(\"r2_score = \",metrics.r2_score(y_test,np.asarray(y_pred_ridge,dtype=\"int\")))\n",
        "print(\"accuracy = \",metrics.accuracy_score(y_test, np.asarray(y_pred_ridge,dtype=\"int\")))"
      ]
    },
    {
      "cell_type": "code",
      "execution_count": 26,
      "id": "fb794a10",
      "metadata": {
        "id": "fb794a10",
        "colab": {
          "base_uri": "https://localhost:8080/",
          "height": 295
        },
        "outputId": "7662d51b-e5be-48bf-a862-d76d1f109a53"
      },
      "outputs": [
        {
          "output_type": "display_data",
          "data": {
            "text/plain": [
              "<Figure size 432x288 with 1 Axes>"
            ],
            "image/png": "[encoded data removed]"
          },
          "metadata": {
            "needs_background": "light"
          }
        }
      ],
      "source": [
        "x = ['Linear Regression','Logistic Regression','SVM','Random Forest','Decision Tree',\n",
        "     'Lasso Regression','Ridge Regression']\n",
        "y = [linear_model, lor_model, svc_model, rfc_model, dtc_model, lasso_model, ridge_model]\n",
        "plt.barh(x,y,color=['c','y'])\n",
        "plt.xlabel('Accuracy')\n",
        "plt.ylabel('Regression and classification')\n",
        "plt.title('Accuracy Bar Graph')\n",
        "\n",
        "plt.show()"
      ]
    },
    {
      "cell_type": "code",
      "source": [],
      "metadata": {
        "id": "oePjJ1UiNo0A"
      },
      "id": "oePjJ1UiNo0A",
      "execution_count": 26,
      "outputs": []
    }
  ],
  "metadata": {
    "kernelspec": {
      "display_name": "Python 3 (ipykernel)",
      "language": "python",
      "name": "python3"
    },
    "language_info": {
      "codemirror_mode": {
        "name": "ipython",
        "version": 3
      },
      "file_extension": ".py",
      "mimetype": "text/x-python",
      "name": "python",
      "nbconvert_exporter": "python",
      "pygments_lexer": "ipython3",
      "version": "3.9.7"
    },
    "colab": {
      "provenance": []
    }
  },
  "nbformat": 4,
  "nbformat_minor": 5
}